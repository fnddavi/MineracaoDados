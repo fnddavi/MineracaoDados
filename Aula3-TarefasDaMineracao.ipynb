{
 "cells": [
  {
   "cell_type": "code",
   "execution_count": 2,
   "metadata": {
    "colab": {
     "base_uri": "https://localhost:8080/"
    },
    "executionInfo": {
     "elapsed": 3402,
     "status": "ok",
     "timestamp": 1757726862676,
     "user": {
      "displayName": "Fernando Davi",
      "userId": "00955696663081384954"
     },
     "user_tz": 180
    },
    "id": "JksAXFR2Wmux",
    "outputId": "49dfbdb0-abdf-49b3-c1f3-70c17a85b365"
   },
   "outputs": [
    {
     "name": "stdout",
     "output_type": "stream",
     "text": [
      "Tipo de combustível previsto: Gasolina\n"
     ]
    }
   ],
   "source": [
    "import pandas as pd\n",
    "from sklearn.tree import DecisionTreeClassifier\n",
    "\n",
    "# Dados fictícios\n",
    "dados = pd.DataFrame({\n",
    "    'Ano': [2018, 2020, 2019, 2015, 2021],\n",
    "    'Quilometragem': [60000, 30000, 70000, 90000, 25000],\n",
    "    'Preco': [38000, 55000, 72000, 28000, 60000],\n",
    "    'Combustivel': ['Gasolina', 'Flex', 'Gasolina', 'Álcool', 'Flex']\n",
    "})\n",
    "\n",
    "# Entrada para teste\n",
    "carro_teste = pd.DataFrame({\n",
    "    'Ano': [2020],\n",
    "    'Quilometragem': [50000]\n",
    "})\n",
    "\n",
    "# ---. Classificação (Árvore de Decisão) ---\n",
    "modelo_classificacao = DecisionTreeClassifier()\n",
    "modelo_classificacao.fit(dados[['Ano', 'Quilometragem']], dados['Combustivel'])\n",
    "combustivel_previsto = modelo_classificacao.predict(carro_teste)[0]\n",
    "\n",
    "print(f\"Tipo de combustível previsto: {combustivel_previsto}\")"
   ]
  }
 ],
 "metadata": {
  "colab": {
   "provenance": []
  },
  "kernelspec": {
   "display_name": "venv",
   "language": "python",
   "name": "python3"
  },
  "language_info": {
   "codemirror_mode": {
    "name": "ipython",
    "version": 3
   },
   "file_extension": ".py",
   "mimetype": "text/x-python",
   "name": "python",
   "nbconvert_exporter": "python",
   "pygments_lexer": "ipython3",
   "version": "3.12.3"
  }
 },
 "nbformat": 4,
 "nbformat_minor": 0
}
